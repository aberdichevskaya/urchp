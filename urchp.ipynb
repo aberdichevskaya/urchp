{
 "cells": [
  {
   "cell_type": "code",
   "execution_count": 6,
   "metadata": {},
   "outputs": [],
   "source": [
    "import matplotlib as mpl\n",
    "import ipywidgets as widgets\n",
    "from IPython.display import display\n",
    "import matplotlib.pyplot as plt\n",
    "import numpy as np"
   ]
  },
  {
   "cell_type": "code",
   "execution_count": 8,
   "metadata": {},
   "outputs": [],
   "source": [
    "nx = 50\n",
    "ny = 70\n",
    "tend = 60\n",
    "mu = 10\n",
    "T0 = 30\n",
    "L = 50\n",
    "H = 70"
   ]
  },
  {
   "cell_type": "code",
   "execution_count": 9,
   "metadata": {},
   "outputs": [],
   "source": [
    "hx = 1 #L/nx\n",
    "hy = 1 #H/ny\n",
    "tau = 6 #tend/10\n",
    "T = np.zeros((tend+1, L, H))\n",
    "for x in range(0, L):\n",
    "    for y in range(0, H):   \n",
    "        T[0][x][y] = T0\n",
    "        T[0][0][y] = 0\n",
    "        T[0][L-1][y] = 0\n",
    "    T[0][x][0] = 0\n",
    "    T[0][x][H-1] = 0\n",
    "        \n",
    "P = np.zeros((tend*2, L, H))\n",
    "for t in range(0, tend,int(tau/2)):\n",
    "    for x in range(0, L):\n",
    "        for y in range(0, H):\n",
    "            P[t][x][y] = t+x+y"
   ]
  },
  {
   "cell_type": "code",
   "execution_count": 10,
   "metadata": {},
   "outputs": [],
   "source": [
    "t = 0\n",
    "while t < tend:\n",
    "    t += tau\n",
    "    alpha = [0]*100\n",
    "    beta = [0]*100\n",
    "    for j in range(0, H):\n",
    "        O = [[0]*H]*L\n",
    "        alpha[0] = 0\n",
    "        beta[0] = 0\n",
    "        a = 2*((1/tau) + (mu/(hx*hx)))\n",
    "        b = (mu/(hx**2))\n",
    "        c = mu/(hx*hx)\n",
    "        for i in range(1, L-1):\n",
    "            d = (2/tau)*T[int(t -tau)][i][j] + (P[int(t -tau/2)][i+1][j] + P[int(t -tau/2)][i][j] + P[int(t -tau/2)][i-1][j])/(hx*hx)\n",
    "            alpha[i] = b/(a - c*alpha[i-1])\n",
    "            beta[i] = (c*beta[i-1]+d)/(a-c*alpha[i-1])\n",
    "        T[int(t)][L-1][j] = 0\n",
    "        for i in range(2, L+1):\n",
    "            O[L - i][j] = alpha[L - i]*T[int(t)][L - i+1][j] + beta[L - i]\n",
    "    for i in range(1, L-1):\n",
    "        alpha[0] = 0\n",
    "        beta[0] = 0\n",
    "        a = 2*((1/tau) + (mu/(hy*hy)))\n",
    "        b = mu/(hy*hy)\n",
    "        c = mu/(hy*hy)\n",
    "        for j in range(1, H-1):\n",
    "            d = (2/tau)*O[i][j] + (P[int(t)][i][j+1] + P[int(t)][i][j] + P[int(t)][i][j-1])/(hy*hy)\n",
    "            alpha[j] = b/(a - c*alpha[j-1])\n",
    "            beta[j] = (c*beta[j-1]+d)/(a-c*alpha[j-1])\n",
    "        T[int(t)][i][H-1] = 0\n",
    "        for j in range(2, H+1):\n",
    "            T[int(t)][i][H - j]= alpha[H - j]*O[i][H - j+1] + beta[H - j]\n",
    "    \n"
   ]
  },
  {
   "cell_type": "code",
   "execution_count": 11,
   "metadata": {
    "scrolled": true
   },
   "outputs": [
    {
     "data": {
      "application/vnd.jupyter.widget-view+json": {
       "model_id": "2434a5d1c5e4475ea5b643a072193a56",
       "version_major": 2,
       "version_minor": 0
      },
      "text/plain": [
       "interactive(children=(FloatSlider(value=0.0, description='time:', max=60.0, step=6.0), Output()), _dom_classes…"
      ]
     },
     "metadata": {},
     "output_type": "display_data"
    }
   ],
   "source": [
    "cmap = mpl.cm.get_cmap('rainbow')\n",
    "\n",
    "def update_plot(time):\n",
    "    data = T[int(time)]\n",
    "    plot = plt.imshow(data, cmap=cmap)\n",
    "    plt.colorbar()\n",
    "    plt.show()\n",
    "\n",
    "\n",
    "time = widgets.FloatSlider(min=0, max=60, value=0, step=6, description='time:')\n",
    "    \n",
    "widgets.interactive(update_plot, time=time)"
   ]
  },
  {
   "cell_type": "code",
   "execution_count": null,
   "metadata": {},
   "outputs": [],
   "source": []
  },
  {
   "cell_type": "code",
   "execution_count": null,
   "metadata": {},
   "outputs": [],
   "source": []
  }
 ],
 "metadata": {
  "kernelspec": {
   "display_name": "Python 3",
   "language": "python",
   "name": "python3"
  },
  "language_info": {
   "codemirror_mode": {
    "name": "ipython",
    "version": 3
   },
   "file_extension": ".py",
   "mimetype": "text/x-python",
   "name": "python",
   "nbconvert_exporter": "python",
   "pygments_lexer": "ipython3",
   "version": "3.7.1"
  }
 },
 "nbformat": 4,
 "nbformat_minor": 2
}
